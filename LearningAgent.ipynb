{
 "cells": [
  {
   "cell_type": "code",
   "execution_count": 1,
   "metadata": {},
   "outputs": [],
   "source": [
    "from Cnn import CustomCNN\n",
    "from utils.LayerActivationMonitoring import LayerActivationMonitoring, register_hooks\n",
    "from utils.LayerActivationMonitoring import plot_activations\n",
    "import EnvironmentConfigurations as EnvConfig\n",
    "\n",
    "model_save_path = f\"{EnvConfig.AGENT_MODEL_PATH_PREFIX}{EnvConfig.configurations[EnvConfig.CURRENT_CONFIGURATION_INDEX]['name']}\"\n",
    "tensorboard_log_path = f\"{EnvConfig.TENSORBOARD_LOG_PATH_PREFIX}{EnvConfig.configurations[EnvConfig.CURRENT_CONFIGURATION_INDEX]['name']}\"\n",
    "\n",
    "env_params = {\n",
    "    \"env_config\": EnvConfig.configurations[EnvConfig.CURRENT_CONFIGURATION_INDEX],\n",
    "    \"is_reward_shaping_on\": True,\n",
    "    \"is_game_window_visible\": False\n",
    "}\n",
    "\n",
    "evaluation_env_params = {\n",
    "    \"env_config\": EnvConfig.configurations[EnvConfig.CURRENT_CONFIGURATION_INDEX],\n",
    "    \"is_reward_shaping_on\": False,\n",
    "    \"is_game_window_visible\": False\n",
    "}\n",
    "\n",
    "agent_params = {\n",
    "    \"tensorboard_log\": tensorboard_log_path,\n",
    "    \"verbose\": 1,\n",
    "    \"n_epochs\": 3,\n",
    "    \"n_steps\": 4096,\n",
    "    \"learning_rate\": 1e-4,\n",
    "    \"batch_size\": 64,\n",
    "    \"seed\": 0,\n",
    "    'policy_kwargs': {'features_extractor_class': CustomCNN}\n",
    "}"
   ]
  },
  {
   "cell_type": "code",
   "execution_count": null,
   "metadata": {},
   "outputs": [],
   "source": [
    "# RUN THE ENVIRONMENT IN PARALLEL MODE WITH 2 ENVS\n",
    "from EnvironmentHelpers import create_vectorised_environment\n",
    "from utils.AutomaticModelSavingCallback import AutomaticModelSavingCallback  \n",
    "from utils.Initialisation import initialise_network_weights\n",
    "from stable_baselines3 import PPO\n",
    "from stable_baselines3.common import policies\n",
    "from stable_baselines3.common.callbacks import EvalCallback\n",
    "\n",
    "env = create_vectorised_environment(**env_params, n_envs=2)\n",
    "evaluation_env = create_vectorised_environment(**evaluation_env_params, n_envs=1)\n",
    "\n",
    "automatic_model_saving_callback = AutomaticModelSavingCallback(\n",
    "            check_freq=EnvConfig.MODEL_SAVING_FREQUENCY,\n",
    "            save_path=model_save_path)\n",
    "\n",
    "evaluation_callback = EvalCallback(\n",
    "            evaluation_env, \n",
    "            n_eval_episodes=10, \n",
    "            eval_freq=EnvConfig.EVALUATION_FREQUENCY,\n",
    "            log_path=tensorboard_log_path,\n",
    "            best_model_save_path=f'models/{EnvConfig.configurations[EnvConfig.CURRENT_CONFIGURATION_INDEX][\"name\"]}')\n",
    "\n",
    "\n",
    "model = PPO(policies.ActorCriticCnnPolicy, env, device=\"cuda\", **agent_params)\n",
    "register_hooks(model)\n",
    "initialise_network_weights(model.policy)\n",
    "model.learn(total_timesteps=30000000, callback=[automatic_model_saving_callback, evaluation_callback])\n",
    "\n",
    "# model = PPO.load(f\"{model_save_path}/best_model\", **agent_params)\n",
    "# model.set_env(env)\n",
    "# register_hooks(model)\n",
    "# model.learn(total_timesteps=30000000, callback=[agentCallback, evaluation_callback], reset_num_timesteps=False)"
   ]
  },
  {
   "cell_type": "code",
   "execution_count": null,
   "metadata": {},
   "outputs": [],
   "source": [
    "env.close()\n",
    "evaluation_env.close()"
   ]
  },
  {
   "cell_type": "code",
   "execution_count": null,
   "metadata": {},
   "outputs": [],
   "source": [
    "# EVALUATE ACTIVATIONS ON NEW ENVIRONMENT\n",
    "from utils.Initialisation import initialise_network_weights\n",
    "\n",
    "env = create_vectorised_environment(**env_params, n_envs=2)\n",
    "# evaluation_env = create_vectorised_environment(**env_params, n_envs=1)\n",
    "\n",
    "model = PPO(policies.ActorCriticCnnPolicy, env, **agent_params)\n",
    "\n",
    "register_hooks(model)\n",
    "initialise_network_weights(model.policy)\n",
    "\n",
    "model.learn(total_timesteps=1024, callback=[LayerActivationMonitoring()])\n",
    "\n",
    "plot_activations(model.policy.features_extractor.hooks)"
   ]
  }
 ],
 "metadata": {
  "kernelspec": {
   "display_name": "py37",
   "language": "python",
   "name": "python3"
  },
  "language_info": {
   "codemirror_mode": {
    "name": "ipython",
    "version": 3
   },
   "file_extension": ".py",
   "mimetype": "text/x-python",
   "name": "python",
   "nbconvert_exporter": "python",
   "pygments_lexer": "ipython3",
   "version": "3.7.16"
  },
  "orig_nbformat": 4,
  "vscode": {
   "interpreter": {
    "hash": "6cba2736cce089a2bdaa6e7154cabef02622ca008eb343f0722e476d9fdc3920"
   }
  }
 },
 "nbformat": 4,
 "nbformat_minor": 2
}
