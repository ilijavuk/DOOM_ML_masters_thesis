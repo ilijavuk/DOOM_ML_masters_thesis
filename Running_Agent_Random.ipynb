{
 "cells": [
  {
   "cell_type": "code",
   "execution_count": 2,
   "metadata": {},
   "outputs": [
    {
     "ename": "FileDoesNotExistException",
     "evalue": "File \"scenarios/deathmatch_turning.cfg | ./scenarios/scenarios/deathmatch_turning.cfg | e:/Programs/Anaconda/envs/py37/lib/site-packages/vizdoom/scenarios/scenarios/deathmatch_turning.cfg\" does not exist.",
     "output_type": "error",
     "traceback": [
      "\u001b[1;31m---------------------------------------------------------------------------\u001b[0m",
      "\u001b[1;31mFileDoesNotExistException\u001b[0m                 Traceback (most recent call last)",
      "\u001b[1;32m~\\AppData\\Local\\Temp\\ipykernel_22040\\118770424.py\u001b[0m in \u001b[0;36m<module>\u001b[1;34m\u001b[0m\n\u001b[0;32m      6\u001b[0m     \u001b[1;31m# Instantiate a VizDoom game instance.\u001b[0m\u001b[1;33m\u001b[0m\u001b[1;33m\u001b[0m\u001b[1;33m\u001b[0m\u001b[0m\n\u001b[0;32m      7\u001b[0m     \u001b[0mgame\u001b[0m \u001b[1;33m=\u001b[0m \u001b[0mDoomGame\u001b[0m\u001b[1;33m(\u001b[0m\u001b[1;33m)\u001b[0m\u001b[1;33m\u001b[0m\u001b[1;33m\u001b[0m\u001b[0m\n\u001b[1;32m----> 8\u001b[1;33m     \u001b[0mgame\u001b[0m\u001b[1;33m.\u001b[0m\u001b[0mload_config\u001b[0m\u001b[1;33m(\u001b[0m\u001b[1;34m'scenarios/deathmatch_turning.cfg'\u001b[0m\u001b[1;33m)\u001b[0m\u001b[1;33m\u001b[0m\u001b[1;33m\u001b[0m\u001b[0m\n\u001b[0m\u001b[0;32m      9\u001b[0m     \u001b[0mgame\u001b[0m\u001b[1;33m.\u001b[0m\u001b[0minit\u001b[0m\u001b[1;33m(\u001b[0m\u001b[1;33m)\u001b[0m\u001b[1;33m\u001b[0m\u001b[1;33m\u001b[0m\u001b[0m\n\u001b[0;32m     10\u001b[0m \u001b[1;33m\u001b[0m\u001b[0m\n",
      "\u001b[1;31mFileDoesNotExistException\u001b[0m: File \"scenarios/deathmatch_turning.cfg | ./scenarios/scenarios/deathmatch_turning.cfg | e:/Programs/Anaconda/envs/py37/lib/site-packages/vizdoom/scenarios/scenarios/deathmatch_turning.cfg\" does not exist."
     ]
    }
   ],
   "source": [
    "import random\n",
    "from vizdoom import DoomGame  \n",
    "\n",
    "if __name__ == '__main__':\n",
    "    \n",
    "    # Instantiate a VizDoom game instance.\n",
    "    game = DoomGame()\n",
    "    game.load_config('VizDoom/scenarios/deathmatch_turning.cfg')\n",
    "    game.init()\n",
    "\n",
    "    # Define possible actions. Each number represents the state of a button (1=active).\n",
    "    sample_actions = [\n",
    "        [1, 0, 0],  # Move left\n",
    "        [0, 1, 0],  # Move right\n",
    "        [0, 0, 1],  # Attack\n",
    "    ]\n",
    "\n",
    "    n_episodes = 10\n",
    "    current_episode = 0\n",
    "    \n",
    "    while current_episode < n_episodes:\n",
    "        game.make_action(random.choice(sample_actions))\n",
    "\n",
    "        if game.is_episode_finished():\n",
    "            current_episode += 1\n",
    "            game.new_episode()\n",
    "\n",
    "    game.close()"
   ]
  }
 ],
 "metadata": {
  "kernelspec": {
   "display_name": "py37",
   "language": "python",
   "name": "python3"
  },
  "language_info": {
   "codemirror_mode": {
    "name": "ipython",
    "version": 3
   },
   "file_extension": ".py",
   "mimetype": "text/x-python",
   "name": "python",
   "nbconvert_exporter": "python",
   "pygments_lexer": "ipython3",
   "version": "3.7.16"
  },
  "orig_nbformat": 4,
  "vscode": {
   "interpreter": {
    "hash": "6cba2736cce089a2bdaa6e7154cabef02622ca008eb343f0722e476d9fdc3920"
   }
  }
 },
 "nbformat": 4,
 "nbformat_minor": 2
}
